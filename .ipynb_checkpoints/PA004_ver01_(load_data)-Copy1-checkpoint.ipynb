{
 "cells": [
  {
   "cell_type": "markdown",
   "id": "e9021a8e",
   "metadata": {},
   "source": [
    "# 0.0 IMPORTS, FUNCTIONS AND CONNECTIONS"
   ]
  },
  {
   "cell_type": "markdown",
   "id": "22819ec1",
   "metadata": {},
   "source": [
    "## 0.1 PACKAGES AND LIBRARIES"
   ]
  },
  {
   "cell_type": "code",
   "execution_count": 1,
   "id": "d3861468",
   "metadata": {
    "ExecuteTime": {
     "end_time": "2023-04-09T13:35:28.005410Z",
     "start_time": "2023-04-09T13:35:18.692338Z"
    }
   },
   "outputs": [],
   "source": [
    "import pandas as pd\n",
    "import psycopg2 as pg\n",
    "import seaborn as sns\n",
    "import warnings\n",
    "import dotenv\n",
    "import os\n",
    "\n",
    "from matplotlib import pyplot as plt\n",
    "from sqlalchemy import create_engine\n",
    "\n",
    "from IPython.core.display import HTML\n",
    "from IPython.display import Image"
   ]
  },
  {
   "cell_type": "markdown",
   "id": "854cf3ce",
   "metadata": {},
   "source": [
    "## 0.2 Helper Function"
   ]
  },
  {
   "cell_type": "code",
   "execution_count": 2,
   "id": "b31e1e9c",
   "metadata": {
    "ExecuteTime": {
     "end_time": "2023-04-09T13:35:28.027275Z",
     "start_time": "2023-04-09T13:35:28.011133Z"
    }
   },
   "outputs": [],
   "source": [
    "warnings.filterwarnings ('ignore')\n",
    "\n",
    "def jupyter_settings():\n",
    "    %matplotlib inline\n",
    "    %pylab inline\n",
    "    \n",
    "    plt.style.use( 'bmh' )\n",
    "    plt.rcParams['figure.figsize'] = [25, 12]\n",
    "    plt.rcParams['font.size'] = 24\n",
    "    \n",
    "    display( HTML( '<style>.container { width:90% !important; }</style>') )\n",
    "    pd.options.display.max_columns = None\n",
    "    pd.options.display.max_rows = None\n",
    "    pd.set_option( 'display.expand_frame_repr', False )\n",
    "    \n",
    "    sns.set()"
   ]
  },
  {
   "cell_type": "code",
   "execution_count": 3,
   "id": "cffcb1e6",
   "metadata": {
    "ExecuteTime": {
     "end_time": "2023-04-09T13:35:28.243382Z",
     "start_time": "2023-04-09T13:35:28.035156Z"
    }
   },
   "outputs": [
    {
     "name": "stdout",
     "output_type": "stream",
     "text": [
      "%pylab is deprecated, use %matplotlib inline and import the required libraries.\n",
      "Populating the interactive namespace from numpy and matplotlib\n"
     ]
    },
    {
     "data": {
      "text/html": [
       "<style>.container { width:90% !important; }</style>"
      ],
      "text/plain": [
       "<IPython.core.display.HTML object>"
      ]
     },
     "metadata": {},
     "output_type": "display_data"
    }
   ],
   "source": [
    "jupyter_settings()"
   ]
  },
  {
   "cell_type": "markdown",
   "id": "1ceb3133",
   "metadata": {},
   "source": [
    "## 0.3 Database Connections"
   ]
  },
  {
   "cell_type": "code",
   "execution_count": 4,
   "id": "62aad73a",
   "metadata": {
    "ExecuteTime": {
     "end_time": "2023-04-09T13:35:28.520891Z",
     "start_time": "2023-04-09T13:35:28.253476Z"
    }
   },
   "outputs": [],
   "source": [
    "dotenv.load_dotenv(dotenv.find_dotenv())\n",
    "url_sql = os.getenv('url_sql')\n",
    "\n",
    "engine = create_engine(url_sql)"
   ]
  },
  {
   "cell_type": "code",
   "execution_count": 5,
   "id": "29deebb3",
   "metadata": {
    "ExecuteTime": {
     "end_time": "2023-04-09T13:35:44.202036Z",
     "start_time": "2023-04-09T13:35:28.524016Z"
    }
   },
   "outputs": [],
   "source": [
    "sql_query = '''\n",
    "SELECT u.id, u.age, u.region_code, u.policy_sales_channel,\n",
    "       i.previously_insured, i.annual_premium, i.vintage, i.response,\n",
    "       v.driving_license, v.vehicle_age, v.vehicle_damage\n",
    "       FROM pa004.users u LEFT JOIN pa004.insurance i ON (u.id = i.id)\n",
    "                          LEFT JOIN pa004.vehicle v  ON (u.id = v.id)                   \n",
    "                          '''\n",
    "\n",
    "df_raw = pd.read_sql_query(sql_query, con=engine)"
   ]
  },
  {
   "cell_type": "code",
   "execution_count": 6,
   "id": "ef856353",
   "metadata": {
    "ExecuteTime": {
     "end_time": "2023-04-09T13:35:44.618707Z",
     "start_time": "2023-04-09T13:35:44.207813Z"
    }
   },
   "outputs": [
    {
     "data": {
      "text/html": [
       "<div>\n",
       "<style scoped>\n",
       "    .dataframe tbody tr th:only-of-type {\n",
       "        vertical-align: middle;\n",
       "    }\n",
       "\n",
       "    .dataframe tbody tr th {\n",
       "        vertical-align: top;\n",
       "    }\n",
       "\n",
       "    .dataframe thead th {\n",
       "        text-align: right;\n",
       "    }\n",
       "</style>\n",
       "<table border=\"1\" class=\"dataframe\">\n",
       "  <thead>\n",
       "    <tr style=\"text-align: right;\">\n",
       "      <th></th>\n",
       "      <th>id</th>\n",
       "      <th>age</th>\n",
       "      <th>region_code</th>\n",
       "      <th>policy_sales_channel</th>\n",
       "      <th>previously_insured</th>\n",
       "      <th>annual_premium</th>\n",
       "      <th>vintage</th>\n",
       "      <th>response</th>\n",
       "      <th>driving_license</th>\n",
       "      <th>vehicle_age</th>\n",
       "      <th>vehicle_damage</th>\n",
       "    </tr>\n",
       "  </thead>\n",
       "  <tbody>\n",
       "    <tr>\n",
       "      <th>0</th>\n",
       "      <td>7</td>\n",
       "      <td>23</td>\n",
       "      <td>11.0</td>\n",
       "      <td>152.0</td>\n",
       "      <td>0</td>\n",
       "      <td>23367.0</td>\n",
       "      <td>249</td>\n",
       "      <td>0</td>\n",
       "      <td>1</td>\n",
       "      <td>&lt; 1 Year</td>\n",
       "      <td>Yes</td>\n",
       "    </tr>\n",
       "    <tr>\n",
       "      <th>1</th>\n",
       "      <td>13</td>\n",
       "      <td>41</td>\n",
       "      <td>15.0</td>\n",
       "      <td>14.0</td>\n",
       "      <td>1</td>\n",
       "      <td>31409.0</td>\n",
       "      <td>221</td>\n",
       "      <td>0</td>\n",
       "      <td>1</td>\n",
       "      <td>1-2 Year</td>\n",
       "      <td>No</td>\n",
       "    </tr>\n",
       "    <tr>\n",
       "      <th>2</th>\n",
       "      <td>18</td>\n",
       "      <td>25</td>\n",
       "      <td>35.0</td>\n",
       "      <td>152.0</td>\n",
       "      <td>1</td>\n",
       "      <td>46622.0</td>\n",
       "      <td>299</td>\n",
       "      <td>0</td>\n",
       "      <td>1</td>\n",
       "      <td>&lt; 1 Year</td>\n",
       "      <td>No</td>\n",
       "    </tr>\n",
       "    <tr>\n",
       "      <th>3</th>\n",
       "      <td>31</td>\n",
       "      <td>26</td>\n",
       "      <td>8.0</td>\n",
       "      <td>160.0</td>\n",
       "      <td>0</td>\n",
       "      <td>2630.0</td>\n",
       "      <td>136</td>\n",
       "      <td>0</td>\n",
       "      <td>1</td>\n",
       "      <td>&lt; 1 Year</td>\n",
       "      <td>No</td>\n",
       "    </tr>\n",
       "    <tr>\n",
       "      <th>4</th>\n",
       "      <td>39</td>\n",
       "      <td>45</td>\n",
       "      <td>8.0</td>\n",
       "      <td>124.0</td>\n",
       "      <td>0</td>\n",
       "      <td>42297.0</td>\n",
       "      <td>264</td>\n",
       "      <td>0</td>\n",
       "      <td>1</td>\n",
       "      <td>1-2 Year</td>\n",
       "      <td>Yes</td>\n",
       "    </tr>\n",
       "  </tbody>\n",
       "</table>\n",
       "</div>"
      ],
      "text/plain": [
       "   id  age  region_code  policy_sales_channel  previously_insured  annual_premium  vintage  response  driving_license vehicle_age vehicle_damage\n",
       "0   7   23         11.0                 152.0                   0         23367.0      249         0                1    < 1 Year            Yes\n",
       "1  13   41         15.0                  14.0                   1         31409.0      221         0                1    1-2 Year             No\n",
       "2  18   25         35.0                 152.0                   1         46622.0      299         0                1    < 1 Year             No\n",
       "3  31   26          8.0                 160.0                   0          2630.0      136         0                1    < 1 Year             No\n",
       "4  39   45          8.0                 124.0                   0         42297.0      264         0                1    1-2 Year            Yes"
      ]
     },
     "execution_count": 6,
     "metadata": {},
     "output_type": "execute_result"
    }
   ],
   "source": [
    "df_raw.head()"
   ]
  },
  {
   "cell_type": "markdown",
   "id": "547bc51a",
   "metadata": {},
   "source": [
    "# 1.0 DESCRIÇÃO DOS DADOS"
   ]
  },
  {
   "cell_type": "code",
   "execution_count": 7,
   "id": "4c1a9bb3",
   "metadata": {
    "ExecuteTime": {
     "end_time": "2023-04-09T13:35:44.682355Z",
     "start_time": "2023-04-09T13:35:44.625753Z"
    }
   },
   "outputs": [],
   "source": [
    "df1 = df_raw.copy()"
   ]
  },
  {
   "cell_type": "markdown",
   "id": "b234f4ac",
   "metadata": {},
   "source": [
    "## 1.1 Data Description"
   ]
  },
  {
   "cell_type": "code",
   "execution_count": 8,
   "id": "65db7222",
   "metadata": {
    "ExecuteTime": {
     "end_time": "2023-04-09T13:35:44.711499Z",
     "start_time": "2023-04-09T13:35:44.688123Z"
    }
   },
   "outputs": [
    {
     "data": {
      "text/plain": [
       "id                        int64\n",
       "age                       int64\n",
       "region_code             float64\n",
       "policy_sales_channel    float64\n",
       "previously_insured        int64\n",
       "annual_premium          float64\n",
       "vintage                   int64\n",
       "response                  int64\n",
       "driving_license           int64\n",
       "vehicle_age              object\n",
       "vehicle_damage           object\n",
       "dtype: object"
      ]
     },
     "execution_count": 8,
     "metadata": {},
     "output_type": "execute_result"
    }
   ],
   "source": [
    "df1.dtypes"
   ]
  },
  {
   "cell_type": "code",
   "execution_count": 9,
   "id": "a4a93f2d",
   "metadata": {
    "ExecuteTime": {
     "end_time": "2023-04-09T13:35:45.223752Z",
     "start_time": "2023-04-09T13:35:44.717410Z"
    }
   },
   "outputs": [],
   "source": [
    "df1['region_code'] = df1['region_code'].astype(int64)\n",
    "\n",
    "df1['policy_sales_channel'] = df1['policy_sales_channel'].astype(int64)\n",
    "\n",
    "df1['vehicle_damage'] = df1['vehicle_damage'].apply(lambda x: 1 if x == 'Yes' else 0)"
   ]
  },
  {
   "cell_type": "code",
   "execution_count": 10,
   "id": "0d2ab4f8",
   "metadata": {
    "ExecuteTime": {
     "end_time": "2023-04-09T13:35:45.259200Z",
     "start_time": "2023-04-09T13:35:45.232571Z"
    }
   },
   "outputs": [
    {
     "data": {
      "text/html": [
       "<div>\n",
       "<style scoped>\n",
       "    .dataframe tbody tr th:only-of-type {\n",
       "        vertical-align: middle;\n",
       "    }\n",
       "\n",
       "    .dataframe tbody tr th {\n",
       "        vertical-align: top;\n",
       "    }\n",
       "\n",
       "    .dataframe thead th {\n",
       "        text-align: right;\n",
       "    }\n",
       "</style>\n",
       "<table border=\"1\" class=\"dataframe\">\n",
       "  <thead>\n",
       "    <tr style=\"text-align: right;\">\n",
       "      <th></th>\n",
       "      <th>id</th>\n",
       "      <th>age</th>\n",
       "      <th>region_code</th>\n",
       "      <th>policy_sales_channel</th>\n",
       "      <th>previously_insured</th>\n",
       "      <th>annual_premium</th>\n",
       "      <th>vintage</th>\n",
       "      <th>response</th>\n",
       "      <th>driving_license</th>\n",
       "      <th>vehicle_age</th>\n",
       "      <th>vehicle_damage</th>\n",
       "    </tr>\n",
       "  </thead>\n",
       "  <tbody>\n",
       "    <tr>\n",
       "      <th>0</th>\n",
       "      <td>7</td>\n",
       "      <td>23</td>\n",
       "      <td>11</td>\n",
       "      <td>152</td>\n",
       "      <td>0</td>\n",
       "      <td>23367.0</td>\n",
       "      <td>249</td>\n",
       "      <td>0</td>\n",
       "      <td>1</td>\n",
       "      <td>&lt; 1 Year</td>\n",
       "      <td>1</td>\n",
       "    </tr>\n",
       "    <tr>\n",
       "      <th>1</th>\n",
       "      <td>13</td>\n",
       "      <td>41</td>\n",
       "      <td>15</td>\n",
       "      <td>14</td>\n",
       "      <td>1</td>\n",
       "      <td>31409.0</td>\n",
       "      <td>221</td>\n",
       "      <td>0</td>\n",
       "      <td>1</td>\n",
       "      <td>1-2 Year</td>\n",
       "      <td>0</td>\n",
       "    </tr>\n",
       "    <tr>\n",
       "      <th>2</th>\n",
       "      <td>18</td>\n",
       "      <td>25</td>\n",
       "      <td>35</td>\n",
       "      <td>152</td>\n",
       "      <td>1</td>\n",
       "      <td>46622.0</td>\n",
       "      <td>299</td>\n",
       "      <td>0</td>\n",
       "      <td>1</td>\n",
       "      <td>&lt; 1 Year</td>\n",
       "      <td>0</td>\n",
       "    </tr>\n",
       "    <tr>\n",
       "      <th>3</th>\n",
       "      <td>31</td>\n",
       "      <td>26</td>\n",
       "      <td>8</td>\n",
       "      <td>160</td>\n",
       "      <td>0</td>\n",
       "      <td>2630.0</td>\n",
       "      <td>136</td>\n",
       "      <td>0</td>\n",
       "      <td>1</td>\n",
       "      <td>&lt; 1 Year</td>\n",
       "      <td>0</td>\n",
       "    </tr>\n",
       "    <tr>\n",
       "      <th>4</th>\n",
       "      <td>39</td>\n",
       "      <td>45</td>\n",
       "      <td>8</td>\n",
       "      <td>124</td>\n",
       "      <td>0</td>\n",
       "      <td>42297.0</td>\n",
       "      <td>264</td>\n",
       "      <td>0</td>\n",
       "      <td>1</td>\n",
       "      <td>1-2 Year</td>\n",
       "      <td>1</td>\n",
       "    </tr>\n",
       "  </tbody>\n",
       "</table>\n",
       "</div>"
      ],
      "text/plain": [
       "   id  age  region_code  policy_sales_channel  previously_insured  annual_premium  vintage  response  driving_license vehicle_age  vehicle_damage\n",
       "0   7   23           11                   152                   0         23367.0      249         0                1    < 1 Year               1\n",
       "1  13   41           15                    14                   1         31409.0      221         0                1    1-2 Year               0\n",
       "2  18   25           35                   152                   1         46622.0      299         0                1    < 1 Year               0\n",
       "3  31   26            8                   160                   0          2630.0      136         0                1    < 1 Year               0\n",
       "4  39   45            8                   124                   0         42297.0      264         0                1    1-2 Year               1"
      ]
     },
     "execution_count": 10,
     "metadata": {},
     "output_type": "execute_result"
    }
   ],
   "source": [
    "df1.head()"
   ]
  },
  {
   "cell_type": "code",
   "execution_count": 11,
   "id": "50569c31",
   "metadata": {
    "ExecuteTime": {
     "end_time": "2023-04-09T13:35:45.301652Z",
     "start_time": "2023-04-09T13:35:45.269497Z"
    }
   },
   "outputs": [
    {
     "name": "stdout",
     "output_type": "stream",
     "text": [
      "Number of Rows: 381109\n",
      "Number of Rows: 11\n"
     ]
    }
   ],
   "source": [
    "print(f'Number of Rows: {df1.shape[0]}')\n",
    "print(f'Number of Rows: {df1.shape[1]}')"
   ]
  },
  {
   "cell_type": "code",
   "execution_count": 12,
   "id": "e0c8b88c",
   "metadata": {
    "ExecuteTime": {
     "end_time": "2023-04-09T13:35:45.489924Z",
     "start_time": "2023-04-09T13:35:45.309271Z"
    }
   },
   "outputs": [
    {
     "data": {
      "text/plain": [
       "id                      0\n",
       "age                     0\n",
       "region_code             0\n",
       "policy_sales_channel    0\n",
       "previously_insured      0\n",
       "annual_premium          0\n",
       "vintage                 0\n",
       "response                0\n",
       "driving_license         0\n",
       "vehicle_age             0\n",
       "vehicle_damage          0\n",
       "dtype: int64"
      ]
     },
     "execution_count": 12,
     "metadata": {},
     "output_type": "execute_result"
    }
   ],
   "source": [
    "df1.isna().sum()"
   ]
  },
  {
   "cell_type": "code",
   "execution_count": 20,
   "id": "750c25e7",
   "metadata": {
    "ExecuteTime": {
     "end_time": "2023-04-09T13:41:20.551534Z",
     "start_time": "2023-04-09T13:41:20.484794Z"
    }
   },
   "outputs": [
    {
     "data": {
      "text/html": [
       "<div>\n",
       "<style scoped>\n",
       "    .dataframe tbody tr th:only-of-type {\n",
       "        vertical-align: middle;\n",
       "    }\n",
       "\n",
       "    .dataframe tbody tr th {\n",
       "        vertical-align: top;\n",
       "    }\n",
       "\n",
       "    .dataframe thead th {\n",
       "        text-align: right;\n",
       "    }\n",
       "</style>\n",
       "<table border=\"1\" class=\"dataframe\">\n",
       "  <thead>\n",
       "    <tr style=\"text-align: right;\">\n",
       "      <th></th>\n",
       "      <th>id</th>\n",
       "      <th>age</th>\n",
       "      <th>region_code</th>\n",
       "      <th>policy_sales_channel</th>\n",
       "      <th>previously_insured</th>\n",
       "      <th>annual_premium</th>\n",
       "      <th>vintage</th>\n",
       "      <th>response</th>\n",
       "      <th>driving_license</th>\n",
       "      <th>vehicle_damage</th>\n",
       "    </tr>\n",
       "  </thead>\n",
       "  <tbody>\n",
       "    <tr>\n",
       "      <th>0</th>\n",
       "      <td>1.0</td>\n",
       "      <td>20.0</td>\n",
       "      <td>0.0</td>\n",
       "      <td>1.0</td>\n",
       "      <td>0.0</td>\n",
       "      <td>2630.0</td>\n",
       "      <td>10.0</td>\n",
       "      <td>0.0</td>\n",
       "      <td>0.0</td>\n",
       "      <td>0.0</td>\n",
       "    </tr>\n",
       "  </tbody>\n",
       "</table>\n",
       "</div>"
      ],
      "text/plain": [
       "    id   age  region_code  policy_sales_channel  previously_insured  annual_premium  vintage  response  driving_license  vehicle_damage\n",
       "0  1.0  20.0          0.0                   1.0                 0.0          2630.0     10.0       0.0              0.0             0.0"
      ]
     },
     "execution_count": 20,
     "metadata": {},
     "output_type": "execute_result"
    }
   ],
   "source": [
    "#Descriptive table\n",
    "\n",
    "df1_num = df1.select_dtypes(include=['int64', 'float64'])\n",
    "\n"
   ]
  }
 ],
 "metadata": {
  "kernelspec": {
   "display_name": "Python 3 (ipykernel)",
   "language": "python",
   "name": "python3"
  },
  "language_info": {
   "codemirror_mode": {
    "name": "ipython",
    "version": 3
   },
   "file_extension": ".py",
   "mimetype": "text/x-python",
   "name": "python",
   "nbconvert_exporter": "python",
   "pygments_lexer": "ipython3",
   "version": "3.10.0"
  }
 },
 "nbformat": 4,
 "nbformat_minor": 5
}
