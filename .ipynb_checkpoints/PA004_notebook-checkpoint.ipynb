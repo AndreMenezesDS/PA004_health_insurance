{
 "cells": [
  {
   "cell_type": "markdown",
   "id": "e9021a8e",
   "metadata": {},
   "source": [
    "# 0.0 IMPORTS, FUNCTIONS AND CONNECTIONS"
   ]
  },
  {
   "cell_type": "markdown",
   "id": "22819ec1",
   "metadata": {},
   "source": [
    "## 0.1 PACKAGES AND LIBRARIES"
   ]
  },
  {
   "cell_type": "code",
   "execution_count": 13,
   "id": "d3861468",
   "metadata": {
    "ExecuteTime": {
     "end_time": "2023-04-25T00:23:46.749531Z",
     "start_time": "2023-04-25T00:23:46.732124Z"
    }
   },
   "outputs": [],
   "source": [
    "import pandas as pd\n",
    "import psycopg2 as pg\n",
    "import seaborn as sns\n",
    "import pickle\n",
    "import warnings\n",
    "import dotenv\n",
    "import os\n",
    "\n",
    "from matplotlib import pyplot as plt\n",
    "from sqlalchemy import create_engine\n",
    "#from sklearn.preprocessing import RobustScaler, MinMaxScaler\n",
    "\n",
    "from IPython.core.display import HTML\n",
    "from IPython.display import Image"
   ]
  },
  {
   "cell_type": "markdown",
   "id": "854cf3ce",
   "metadata": {},
   "source": [
    "## 0.2 Helper Function"
   ]
  },
  {
   "cell_type": "code",
   "execution_count": 14,
   "id": "b31e1e9c",
   "metadata": {
    "ExecuteTime": {
     "end_time": "2023-04-25T00:23:46.833045Z",
     "start_time": "2023-04-25T00:23:46.756252Z"
    }
   },
   "outputs": [],
   "source": [
    "warnings.filterwarnings ('ignore')\n",
    "\n",
    "def jupyter_settings():\n",
    "    %matplotlib inline\n",
    "    %pylab inline\n",
    "    \n",
    "    plt.style.use( 'bmh' )\n",
    "    plt.rcParams['figure.figsize'] = [25, 12]\n",
    "    plt.rcParams['font.size'] = 24\n",
    "    \n",
    "    display( HTML( '<style>.container { width:90% !important; }</style>') )\n",
    "    pd.options.display.max_columns = None\n",
    "    pd.options.display.max_rows = None\n",
    "    pd.set_option( 'display.expand_frame_repr', False )\n",
    "    \n",
    "    sns.set()"
   ]
  },
  {
   "cell_type": "code",
   "execution_count": 15,
   "id": "cffcb1e6",
   "metadata": {
    "ExecuteTime": {
     "end_time": "2023-04-25T00:23:46.920563Z",
     "start_time": "2023-04-25T00:23:46.837523Z"
    }
   },
   "outputs": [
    {
     "name": "stdout",
     "output_type": "stream",
     "text": [
      "%pylab is deprecated, use %matplotlib inline and import the required libraries.\n",
      "Populating the interactive namespace from numpy and matplotlib\n"
     ]
    },
    {
     "data": {
      "text/html": [
       "<style>.container { width:90% !important; }</style>"
      ],
      "text/plain": [
       "<IPython.core.display.HTML object>"
      ]
     },
     "metadata": {},
     "output_type": "display_data"
    }
   ],
   "source": [
    "jupyter_settings()"
   ]
  },
  {
   "cell_type": "markdown",
   "id": "1ceb3133",
   "metadata": {},
   "source": [
    "## 0.3 Database Connections"
   ]
  },
  {
   "cell_type": "code",
   "execution_count": 19,
   "id": "62aad73a",
   "metadata": {
    "ExecuteTime": {
     "end_time": "2023-04-25T00:27:57.751169Z",
     "start_time": "2023-04-25T00:27:57.678183Z"
    }
   },
   "outputs": [
    {
     "ename": "OperationalError",
     "evalue": "connection to server on socket \"/var/run/postgresql/.s.PGSQL.5432\" failed: No such file or directory\n\tIs the server running locally and accepting connections on that socket?\n",
     "output_type": "error",
     "traceback": [
      "\u001b[0;31m---------------------------------------------------------------------------\u001b[0m",
      "\u001b[0;31mOperationalError\u001b[0m                          Traceback (most recent call last)",
      "Cell \u001b[0;32mIn[19], line 11\u001b[0m\n\u001b[1;32m      8\u001b[0m username \u001b[38;5;241m=\u001b[39m os\u001b[38;5;241m.\u001b[39mgetenv(\u001b[38;5;124m'\u001b[39m\u001b[38;5;124mPA004_USERNAME\u001b[39m\u001b[38;5;124m'\u001b[39m)\n\u001b[1;32m      9\u001b[0m password \u001b[38;5;241m=\u001b[39m os\u001b[38;5;241m.\u001b[39mgetenv(\u001b[38;5;124m'\u001b[39m\u001b[38;5;124mPA004_PASSWORD\u001b[39m\u001b[38;5;124m'\u001b[39m)\n\u001b[0;32m---> 11\u001b[0m conn \u001b[38;5;241m=\u001b[39m \u001b[43mpg\u001b[49m\u001b[38;5;241;43m.\u001b[39;49m\u001b[43mconnect\u001b[49m\u001b[43m(\u001b[49m\u001b[43mhost\u001b[49m\u001b[38;5;241;43m=\u001b[39;49m\u001b[43mhost\u001b[49m\u001b[43m,\u001b[49m\u001b[43m \u001b[49m\u001b[43mport\u001b[49m\u001b[38;5;241;43m=\u001b[39;49m\u001b[43mport\u001b[49m\u001b[43m,\u001b[49m\u001b[43m \u001b[49m\u001b[43mdbname\u001b[49m\u001b[38;5;241;43m=\u001b[39;49m\u001b[43mdbname\u001b[49m\u001b[43m,\u001b[49m\u001b[43m \u001b[49m\u001b[43muser\u001b[49m\u001b[38;5;241;43m=\u001b[39;49m\u001b[43musername\u001b[49m\u001b[43m,\u001b[49m\u001b[43m \u001b[49m\u001b[43mpassword\u001b[49m\u001b[38;5;241;43m=\u001b[39;49m\u001b[43mpassword\u001b[49m\u001b[43m)\u001b[49m\n\u001b[1;32m     13\u001b[0m cur \u001b[38;5;241m=\u001b[39m conn\u001b[38;5;241m.\u001b[39mcursor()\n",
      "File \u001b[0;32m~/.pyenv/versions/3.10.0/envs/PA004/lib/python3.10/site-packages/psycopg2/__init__.py:122\u001b[0m, in \u001b[0;36mconnect\u001b[0;34m(dsn, connection_factory, cursor_factory, **kwargs)\u001b[0m\n\u001b[1;32m    119\u001b[0m     kwasync[\u001b[38;5;124m'\u001b[39m\u001b[38;5;124masync_\u001b[39m\u001b[38;5;124m'\u001b[39m] \u001b[38;5;241m=\u001b[39m kwargs\u001b[38;5;241m.\u001b[39mpop(\u001b[38;5;124m'\u001b[39m\u001b[38;5;124masync_\u001b[39m\u001b[38;5;124m'\u001b[39m)\n\u001b[1;32m    121\u001b[0m dsn \u001b[38;5;241m=\u001b[39m _ext\u001b[38;5;241m.\u001b[39mmake_dsn(dsn, \u001b[38;5;241m*\u001b[39m\u001b[38;5;241m*\u001b[39mkwargs)\n\u001b[0;32m--> 122\u001b[0m conn \u001b[38;5;241m=\u001b[39m \u001b[43m_connect\u001b[49m\u001b[43m(\u001b[49m\u001b[43mdsn\u001b[49m\u001b[43m,\u001b[49m\u001b[43m \u001b[49m\u001b[43mconnection_factory\u001b[49m\u001b[38;5;241;43m=\u001b[39;49m\u001b[43mconnection_factory\u001b[49m\u001b[43m,\u001b[49m\u001b[43m \u001b[49m\u001b[38;5;241;43m*\u001b[39;49m\u001b[38;5;241;43m*\u001b[39;49m\u001b[43mkwasync\u001b[49m\u001b[43m)\u001b[49m\n\u001b[1;32m    123\u001b[0m \u001b[38;5;28;01mif\u001b[39;00m cursor_factory \u001b[38;5;129;01mis\u001b[39;00m \u001b[38;5;129;01mnot\u001b[39;00m \u001b[38;5;28;01mNone\u001b[39;00m:\n\u001b[1;32m    124\u001b[0m     conn\u001b[38;5;241m.\u001b[39mcursor_factory \u001b[38;5;241m=\u001b[39m cursor_factory\n",
      "\u001b[0;31mOperationalError\u001b[0m: connection to server on socket \"/var/run/postgresql/.s.PGSQL.5432\" failed: No such file or directory\n\tIs the server running locally and accepting connections on that socket?\n"
     ]
    }
   ],
   "source": [
    "dotenv.load_dotenv(dotenv.find_dotenv())\n",
    "#url_sql = os.getenv('url_sql')\n",
    "#engine = create_engine(url_sql)\n",
    "\n",
    "host = os.getenv('PA004_HOST')\n",
    "port = os.getenv('PA004_PORT')\n",
    "dbname = os.getenv('PA004_DATABASE')\n",
    "username = os.getenv('PA004_USERNAME')\n",
    "password = os.getenv('PA004_PASSWORD')\n",
    "\n",
    "conn = pg.connect(host=host, port=port, dbname=dbname, user=username, password=password)\n",
    "\n",
    "cur = conn.cursor()"
   ]
  },
  {
   "cell_type": "code",
   "execution_count": 18,
   "id": "29deebb3",
   "metadata": {
    "ExecuteTime": {
     "end_time": "2023-04-25T00:27:49.136708Z",
     "start_time": "2023-04-25T00:27:49.089629Z"
    }
   },
   "outputs": [
    {
     "ename": "NameError",
     "evalue": "name 'cur' is not defined",
     "output_type": "error",
     "traceback": [
      "\u001b[0;31m---------------------------------------------------------------------------\u001b[0m",
      "\u001b[0;31mNameError\u001b[0m                                 Traceback (most recent call last)",
      "Cell \u001b[0;32mIn[18], line 8\u001b[0m\n\u001b[1;32m      1\u001b[0m sql_query \u001b[38;5;241m=\u001b[39m \u001b[38;5;124m'''\u001b[39m\n\u001b[1;32m      2\u001b[0m \u001b[38;5;124mSELECT u.id, u.age, u.region_code, u.policy_sales_channel,\u001b[39m\n\u001b[1;32m      3\u001b[0m \u001b[38;5;124m       i.previously_insured, i.annual_premium, i.vintage, i.response,\u001b[39m\n\u001b[0;32m   (...)\u001b[0m\n\u001b[1;32m      6\u001b[0m \u001b[38;5;124m                          LEFT JOIN pa004.vehicle v  ON (u.id = v.id)                   \u001b[39m\n\u001b[1;32m      7\u001b[0m \u001b[38;5;124m                          \u001b[39m\u001b[38;5;124m'''\u001b[39m\n\u001b[0;32m----> 8\u001b[0m \u001b[43mcur\u001b[49m\u001b[38;5;241m.\u001b[39mexecute(sql_query)\n\u001b[1;32m      9\u001b[0m df_raw \u001b[38;5;241m=\u001b[39m pd\u001b[38;5;241m.\u001b[39mread_sql_query(sql_query, con\u001b[38;5;241m=\u001b[39mconn)\n\u001b[1;32m     11\u001b[0m cur\u001b[38;5;241m.\u001b[39mclose()\n",
      "\u001b[0;31mNameError\u001b[0m: name 'cur' is not defined"
     ]
    }
   ],
   "source": [
    "sql_query = '''\n",
    "SELECT u.id, u.age, u.region_code, u.policy_sales_channel,\n",
    "       i.previously_insured, i.annual_premium, i.vintage, i.response,\n",
    "       v.driving_license, v.vehicle_age, v.vehicle_damage\n",
    "       FROM pa004.users u LEFT JOIN pa004.insurance i ON (u.id = i.id)\n",
    "                          LEFT JOIN pa004.vehicle v  ON (u.id = v.id)                   \n",
    "                          '''\n",
    "cur.execute(sql_query)\n",
    "df_raw = pd.read_sql_query(sql_query, con=conn)\n",
    "\n",
    "cur.close()\n",
    "conn.close()"
   ]
  },
  {
   "cell_type": "code",
   "execution_count": null,
   "id": "ef856353",
   "metadata": {
    "ExecuteTime": {
     "end_time": "2023-04-25T00:23:47.112059Z",
     "start_time": "2023-04-25T00:23:47.111905Z"
    }
   },
   "outputs": [],
   "source": [
    "df_raw.head()"
   ]
  },
  {
   "cell_type": "markdown",
   "id": "547bc51a",
   "metadata": {},
   "source": [
    "# 1.0 DESCRIÇÃO DOS DADOS"
   ]
  },
  {
   "cell_type": "code",
   "execution_count": null,
   "id": "4c1a9bb3",
   "metadata": {
    "ExecuteTime": {
     "end_time": "2023-04-25T00:23:47.116112Z",
     "start_time": "2023-04-25T00:23:47.116018Z"
    }
   },
   "outputs": [],
   "source": [
    "df1 = df_raw.copy()"
   ]
  },
  {
   "cell_type": "markdown",
   "id": "f1306bde",
   "metadata": {},
   "source": [
    "## 1.1 Data Dimensions"
   ]
  },
  {
   "cell_type": "code",
   "execution_count": null,
   "id": "50569c31",
   "metadata": {
    "ExecuteTime": {
     "end_time": "2023-04-25T00:23:47.120212Z",
     "start_time": "2023-04-25T00:23:47.120181Z"
    }
   },
   "outputs": [],
   "source": [
    "print(f'Number of Rows: {df1.shape[0]}')\n",
    "print(f'Number of Rows: {df1.shape[1]}')"
   ]
  },
  {
   "cell_type": "markdown",
   "id": "b234f4ac",
   "metadata": {},
   "source": [
    "## 1.2 Changing Data Types"
   ]
  },
  {
   "cell_type": "code",
   "execution_count": null,
   "id": "65db7222",
   "metadata": {
    "ExecuteTime": {
     "end_time": "2023-04-25T00:23:47.122417Z",
     "start_time": "2023-04-25T00:23:47.122385Z"
    }
   },
   "outputs": [],
   "source": [
    "df1.dtypes"
   ]
  },
  {
   "cell_type": "code",
   "execution_count": null,
   "id": "a4a93f2d",
   "metadata": {
    "ExecuteTime": {
     "end_time": "2023-04-25T00:23:47.125153Z",
     "start_time": "2023-04-25T00:23:47.125123Z"
    }
   },
   "outputs": [],
   "source": [
    "df1['region_code'] = df1['region_code'].astype(int64)\n",
    "\n",
    "df1['policy_sales_channel'] = df1['policy_sales_channel'].astype(int64)\n",
    "\n",
    "df1['vehicle_damage'] = df1['vehicle_damage'].apply(lambda x: 1 if x == 'Yes' else 0)"
   ]
  },
  {
   "cell_type": "markdown",
   "id": "320f19ea",
   "metadata": {},
   "source": [
    "## 1.3 Check NA"
   ]
  },
  {
   "cell_type": "code",
   "execution_count": null,
   "id": "e0c8b88c",
   "metadata": {
    "ExecuteTime": {
     "end_time": "2023-04-25T00:23:47.127578Z",
     "start_time": "2023-04-25T00:23:47.127541Z"
    }
   },
   "outputs": [],
   "source": [
    "df1.isna().sum()"
   ]
  },
  {
   "cell_type": "markdown",
   "id": "991ea65e",
   "metadata": {},
   "source": [
    "## 1.4 Numerical Data Description"
   ]
  },
  {
   "cell_type": "code",
   "execution_count": null,
   "id": "7c61ff9e",
   "metadata": {
    "ExecuteTime": {
     "end_time": "2023-04-25T00:23:47.130759Z",
     "start_time": "2023-04-25T00:23:47.130726Z"
    }
   },
   "outputs": [],
   "source": [
    "# Data Selection\n",
    "df1_num = df1.select_dtypes(include=['int64', 'float64'])\n",
    "\n",
    "#Central Tendency\n",
    "ct1 = pd.DataFrame(df1_num.apply(np.mean)).T\n",
    "ct2 = pd.DataFrame(df1_num.apply(np.median)).T\n",
    "\n",
    "#Dispersion \n",
    "d1 = pd.DataFrame(df1_num.apply(min)).T\n",
    "d2 = pd.DataFrame(df1_num.apply(max)).T\n",
    "d3 = pd.DataFrame(df1_num.apply(lambda x: x.max() - x.min())).T\n",
    "d4 = pd.DataFrame(df1_num.apply(np.std)).T\n",
    "d5 = pd.DataFrame(df1_num.apply(lambda x: x.skew())).T\n",
    "d6 = pd.DataFrame(df1_num.apply(lambda x: x.kurtosis())).T\n",
    "\n",
    "df_descript = pd.concat([d1, d2, d3, ct1, ct2, d4, d5, d6]).T\n",
    "df_descript.columns = ['min','max', 'range', 'average', 'median', 'std', 'skew', 'kurtosis']\n",
    "df_descript"
   ]
  },
  {
   "cell_type": "markdown",
   "id": "df55b642",
   "metadata": {},
   "source": [
    "## 1.5 Categorical Data Description"
   ]
  },
  {
   "cell_type": "code",
   "execution_count": null,
   "id": "91a70d04",
   "metadata": {
    "ExecuteTime": {
     "end_time": "2023-04-25T00:23:47.134761Z",
     "start_time": "2023-04-25T00:23:47.134727Z"
    }
   },
   "outputs": [],
   "source": [
    "df_cat = df1[['vehicle_age', 'id']].groupby('vehicle_age').count().reset_index()\n",
    "\n",
    "sns.barplot(data=df_cat, x='vehicle_age', y='id');"
   ]
  },
  {
   "cell_type": "markdown",
   "id": "7b4e5d33",
   "metadata": {},
   "source": [
    "# 2.0 FEATURE ENGINEERING"
   ]
  },
  {
   "cell_type": "code",
   "execution_count": null,
   "id": "e95a90cf",
   "metadata": {
    "ExecuteTime": {
     "end_time": "2023-04-25T00:23:47.137021Z",
     "start_time": "2023-04-25T00:23:47.136982Z"
    }
   },
   "outputs": [],
   "source": [
    "df2 = df1.copy()\n",
    "reorder_columns = ['id', 'age', 'region_code', 'policy_sales_channel',\n",
    "       'previously_insured', 'annual_premium', 'vintage',\n",
    "       'driving_license', 'vehicle_age', 'vehicle_damage', 'response']\n",
    "\n",
    "df2 = df2.reindex(columns=reorder_columns)"
   ]
  },
  {
   "cell_type": "markdown",
   "id": "e0872724",
   "metadata": {},
   "source": [
    "## 2.1 Hypothesis Mindmap"
   ]
  },
  {
   "cell_type": "code",
   "execution_count": null,
   "id": "71eb9be6",
   "metadata": {
    "ExecuteTime": {
     "end_time": "2023-04-25T00:23:47.139482Z",
     "start_time": "2023-04-25T00:23:47.139421Z"
    },
    "scrolled": true
   },
   "outputs": [],
   "source": [
    "Image('img/MindMapHypothesis.png')"
   ]
  },
  {
   "cell_type": "markdown",
   "id": "c3fd5fc2",
   "metadata": {},
   "source": [
    "## 2.2 Criação de Hipóteses"
   ]
  },
  {
   "cell_type": "markdown",
   "id": "34d50855",
   "metadata": {},
   "source": [
    "### 2.2.1 Hipóteses de Assinantes"
   ]
  },
  {
   "cell_type": "markdown",
   "id": "1ac7ab2a",
   "metadata": {},
   "source": [
    "1. Quanto maior a idade, maior propensão do cliente adquirir um plano seguro de saúde.\n",
    "2. Quanto maior o salário, maior a propensão do cliente a adquirir um plano de seguro de saúde.\n",
    "3. Quanto mais próx a um centro urbano(região), maior a propensão do cliente adquirir um plano de seguro de saúde.\n",
    "    *Há alguma região com maior compra de aquisição de seguros?"
   ]
  },
  {
   "cell_type": "markdown",
   "id": "675a0e62",
   "metadata": {},
   "source": [
    "### 2.2.2 Hipótese do Produto (Assinatura de seguro veícular)"
   ]
  },
  {
   "cell_type": "markdown",
   "id": "6d8a3d84",
   "metadata": {},
   "source": [
    "1. Clientes que já ativaram/possuem o seguro veícular possuem menor propensão de adquirir um  novo plano de seguro veícular.\n",
    "2. Clientes que pagam mais caro pela assinatura possuem menor propensão a adquirir um plano de saúde.\n",
    "3. Clientes com mais dias de assinatura possuem maior propensão a adquirir um plano de saúde.\n",
    "4. Clientes ficam mais propensos a assinar um plano de saúde conjunto após a realização de campanhas de marketing.\n",
    "5. Clientes ficam mais propensos a assinar um plano de saúde com a realização de promoção conjunta ao plano de seguro veícular."
   ]
  },
  {
   "cell_type": "markdown",
   "id": "7d61ba5c",
   "metadata": {},
   "source": [
    "### 2.2.3 Hipóteses do Veículo em Seguridade"
   ]
  },
  {
   "cell_type": "markdown",
   "id": "b3dbe4f8",
   "metadata": {},
   "source": [
    "1. Clientes com a licença de habilitação são mais propensos a adquirir um plano de seguro de saúde.\n",
    "2. Clientes com veículos mais antigos são mais propensos a adquirir um plano de seguro de saúde.\n",
    "3. Clientes com veículos já danificados são mais propensos a adquirir um plano de seguro de saúde."
   ]
  },
  {
   "cell_type": "markdown",
   "id": "68f4d970",
   "metadata": {},
   "source": [
    "## 2.3 Hipóteses Selecionadas"
   ]
  },
  {
   "cell_type": "markdown",
   "id": "1a4417fc",
   "metadata": {},
   "source": [
    "1. Quanto maior a idade, maior propensão do cliente adquirir um plano seguro veícular.\n",
    "\n",
    "2. Clientes que já ativaram/possuem o seguro veícular possuem menor propensão de adquirir um  novo plano de seguro veícular.\n",
    "3. Clientes que pagam mais caro pela assinatura possuem menor propensão a adquirir um plano de seguro veícular.\n",
    "4. Clientes com mais dias de assinatura possuem maior propensão a adquirir um plano de seguro veícular.\n",
    "\n",
    "5. Clientes com licença de habilitação são mais propensos a adquirir um plano de seguro veícular.\n",
    "6. Clientes com veículos mais antigos são mais propensos a adquirir um plano de seguro veícular.\n",
    "7. Clientes com veículos já danificados são mais propensos a adquirir um plano de seguro veícular.\n",
    "\n",
    "8. Clientes de determinada região são mais propensos a adquirir um plano de seguro veícular."
   ]
  },
  {
   "cell_type": "code",
   "execution_count": null,
   "id": "7219cb5c",
   "metadata": {
    "ExecuteTime": {
     "end_time": "2023-04-25T00:23:47.142345Z",
     "start_time": "2023-04-25T00:23:47.142286Z"
    }
   },
   "outputs": [],
   "source": [
    "df2.head()"
   ]
  },
  {
   "cell_type": "markdown",
   "id": "0c8a9980",
   "metadata": {},
   "source": [
    "# 3.0 Exploratory Data Analysis"
   ]
  },
  {
   "cell_type": "code",
   "execution_count": null,
   "id": "87f95621",
   "metadata": {
    "ExecuteTime": {
     "end_time": "2023-04-25T00:23:47.146045Z",
     "start_time": "2023-04-25T00:23:47.146017Z"
    }
   },
   "outputs": [],
   "source": [
    "df3 = df2.copy()"
   ]
  },
  {
   "cell_type": "markdown",
   "id": "651bac05",
   "metadata": {},
   "source": [
    "## 3.1 Análise Univariada"
   ]
  },
  {
   "cell_type": "markdown",
   "id": "217fd3cc",
   "metadata": {},
   "source": [
    "### 3.1.1 Variável Numérica"
   ]
  },
  {
   "cell_type": "code",
   "execution_count": null,
   "id": "88be8320",
   "metadata": {
    "ExecuteTime": {
     "end_time": "2023-04-25T00:23:47.148269Z",
     "start_time": "2023-04-25T00:23:47.148242Z"
    }
   },
   "outputs": [],
   "source": [
    "df3_num = df3.select_dtypes(include=['int64', 'float64'])\n",
    "\n",
    "df3_num.hist(bins=25);"
   ]
  },
  {
   "cell_type": "code",
   "execution_count": null,
   "id": "23960580",
   "metadata": {
    "ExecuteTime": {
     "end_time": "2023-04-25T00:23:47.151257Z",
     "start_time": "2023-04-25T00:23:47.151222Z"
    }
   },
   "outputs": [],
   "source": [
    "#response -> disparidade muito grande entre números de pessoas que não adquiriram o seguro veícular (0) e as que adquiriram (1)."
   ]
  },
  {
   "cell_type": "markdown",
   "id": "19b17994",
   "metadata": {},
   "source": [
    "### 3.1.2 Variável Categórica"
   ]
  },
  {
   "cell_type": "code",
   "execution_count": null,
   "id": "d94c922e",
   "metadata": {
    "ExecuteTime": {
     "end_time": "2023-04-25T00:23:47.154795Z",
     "start_time": "2023-04-25T00:23:47.154761Z"
    }
   },
   "outputs": [],
   "source": [
    "df3['vehicle_age'].drop_duplicates()"
   ]
  },
  {
   "cell_type": "markdown",
   "id": "5eb0e110",
   "metadata": {},
   "source": [
    "## 3.2 Análise Bivariada"
   ]
  },
  {
   "cell_type": "markdown",
   "id": "ca7b5afd",
   "metadata": {},
   "source": [
    "### H.1 Quanto maior a idade, maior a propensão do cliente em adquirir um seguro veícular.\n",
    "**Verdadeiro** -> Nota-se maior concentração entre 40 e 50 anos dentre os que mostraram interesse no seguro veícular"
   ]
  },
  {
   "cell_type": "code",
   "execution_count": null,
   "id": "df74b3dd",
   "metadata": {
    "ExecuteTime": {
     "end_time": "2023-04-25T00:23:47.159130Z",
     "start_time": "2023-04-25T00:23:47.159096Z"
    }
   },
   "outputs": [],
   "source": [
    "plt.subplot(1,3,1)\n",
    "plt.title ('Overall age distribution', fontsize=18)\n",
    "sns.boxplot(df3, x='response', y='age');\n",
    "\n",
    "plt.subplot(1,3,2)\n",
    "plt.title('No Response',fontsize=18)\n",
    "aux = df3.loc[df3['response'] == 0, :]\n",
    "sns.histplot(aux, x='age');\n",
    "\n",
    "plt.subplot(1,3,3)\n",
    "plt.title('Yes Response', fontsize=18)\n",
    "aux = df3.loc[df3['response'] == 1, :]\n",
    "sns.histplot(aux, x='age');"
   ]
  },
  {
   "cell_type": "markdown",
   "id": "a83d60af",
   "metadata": {},
   "source": [
    "### H.2 Clientes que já ativaram/possuem o seguro veícular possuem menor propensão de adquirir um  novo plano de seguro veícular.\n",
    "\n",
    "**Verdadeiro** -> IMPORTANTE: Essa amostragem pode demonstrar um vazamento de dados; algo que não confere aprendizado ao algoritmo. Basicamente, ele irá dar um resposta pronta ao modelo, onde 100% dos clientes com seguro não tem interesse de troca ou nova aquisição."
   ]
  },
  {
   "cell_type": "code",
   "execution_count": null,
   "id": "ffca0b15",
   "metadata": {
    "ExecuteTime": {
     "end_time": "2023-04-25T00:23:47.163408Z",
     "start_time": "2023-04-25T00:23:47.163377Z"
    }
   },
   "outputs": [],
   "source": [
    "aux2 = pd.crosstab(df3['previously_insured'], df3['response'])\n",
    "aux2 = aux2.apply(lambda x: x/x.sum(), axis=1)\n",
    "aux2"
   ]
  },
  {
   "cell_type": "markdown",
   "id": "dbffba8d",
   "metadata": {},
   "source": [
    "### H.3 Clientes que pagam mais caro pela assinatura possuem menor propensão a adquirir um plano de seguro veícular.\n",
    "**Falso** -> Nota-se pela forma de ambas as distribuições (com ou sem interesse de compra), que a medidas de tendência central (média/mediana) não variam muito entre as distribuições."
   ]
  },
  {
   "cell_type": "code",
   "execution_count": null,
   "id": "b1b977ef",
   "metadata": {
    "ExecuteTime": {
     "end_time": "2023-04-25T00:23:47.167050Z",
     "start_time": "2023-04-25T00:23:47.167011Z"
    }
   },
   "outputs": [],
   "source": [
    "plt.title('Overall Annual Premium Distribution', fontsize=18)\n",
    "aux3 = df3.loc[ (df3['annual_premium'] > 10000) & (df3['annual_premium'] < 80000), :]\n",
    "sns.histplot(aux3, x='annual_premium', hue='response');"
   ]
  },
  {
   "cell_type": "code",
   "execution_count": null,
   "id": "9e98dbe7",
   "metadata": {
    "ExecuteTime": {
     "end_time": "2023-04-25T00:23:47.170230Z",
     "start_time": "2023-04-25T00:23:47.170199Z"
    }
   },
   "outputs": [],
   "source": [
    "#Nota-se que há uma contagem muito grande (ordem de 65k de entradas) com annual premium padronizado no valor de $2630,00\n",
    "    #possívelmente o 'plano básico/padrão' da seguradora de saúde\n",
    "\n",
    "out1 = df3[['annual_premium','response']].groupby('annual_premium').count().sort_values('response',ascending=False).reset_index()\n",
    "out1.head()"
   ]
  },
  {
   "cell_type": "markdown",
   "id": "75200e12",
   "metadata": {},
   "source": [
    "### H.4 Clientes com mais dias de assinatura possuem maior propensão a adquirir um plano de seguro veícular.\n",
    "**Falso** -> Nenhuma diferença observada relacionando-se dias de assinatura x interesse de compra"
   ]
  },
  {
   "cell_type": "code",
   "execution_count": null,
   "id": "ecd32740",
   "metadata": {
    "ExecuteTime": {
     "end_time": "2023-04-25T00:23:47.173201Z",
     "start_time": "2023-04-25T00:23:47.173169Z"
    }
   },
   "outputs": [],
   "source": [
    "plt.subplot(1,2,1)\n",
    "plt.title('Yes Response', fontsize=18)\n",
    "aux4 = df3.loc[df3['response'] == 0, :]\n",
    "sns.histplot(aux4, x='vintage');\n",
    "\n",
    "plt.subplot(1,2,2)\n",
    "plt.title('No Response', fontsize=18)\n",
    "aux4 = df3.loc[df3['response'] == 1, :]\n",
    "sns.histplot(aux4, x='vintage');"
   ]
  },
  {
   "cell_type": "markdown",
   "id": "ec113cff",
   "metadata": {},
   "source": [
    "### H.5 Clientes com licença de habilitação são mais propensos a adquirir um plano de seguro veícular.\n",
    "**Verdadeiro** -> Proporcionalmente, houve maior interesse de compra por parte de clientes com carteira de habilitação"
   ]
  },
  {
   "cell_type": "code",
   "execution_count": null,
   "id": "e335bf8b",
   "metadata": {
    "ExecuteTime": {
     "end_time": "2023-04-25T00:23:47.175776Z",
     "start_time": "2023-04-25T00:23:47.175751Z"
    }
   },
   "outputs": [],
   "source": [
    "aux5 = pd.crosstab(df3['driving_license'], df3['response'])\n",
    "aux5 = aux5.apply(lambda x: x/x.sum(), axis=1)\n",
    "aux5"
   ]
  },
  {
   "cell_type": "markdown",
   "id": "7ef49463",
   "metadata": {},
   "source": [
    "### H.6 Clientes com veículos mais antigos são mais propensos a adquirir um plano de seguro veícular.\n",
    "**Verdadeiro** -> proporcionalmente, para carros de >2 anos de idade despertam maior interesse de compra de seguro em comparação aos demais"
   ]
  },
  {
   "cell_type": "code",
   "execution_count": null,
   "id": "e54d1da0",
   "metadata": {
    "ExecuteTime": {
     "end_time": "2023-04-25T00:23:47.178646Z",
     "start_time": "2023-04-25T00:23:47.178619Z"
    }
   },
   "outputs": [],
   "source": [
    "df3[['vehicle_age', 'response']].value_counts(normalize=True).reset_index()"
   ]
  },
  {
   "cell_type": "markdown",
   "id": "44ab2ff6",
   "metadata": {},
   "source": [
    "### H.7 Clientes com veículos já danificados são mais propensos a adquirir um plano de seguro veícular.\n",
    "**Verdadeiro** -> Proporção percentual muito maior de interessados em compra de seguro entre aqueles que possuem veículos danificados"
   ]
  },
  {
   "cell_type": "code",
   "execution_count": null,
   "id": "cf246e1a",
   "metadata": {
    "ExecuteTime": {
     "end_time": "2023-04-25T00:23:47.180984Z",
     "start_time": "2023-04-25T00:23:47.180953Z"
    }
   },
   "outputs": [],
   "source": [
    "aux7 = pd.crosstab(df3['vehicle_damage'], df3['response']).apply(lambda x: x/x.sum(), axis = 1)\n",
    "aux7"
   ]
  },
  {
   "cell_type": "markdown",
   "id": "f4ab2bf8",
   "metadata": {},
   "source": [
    "### H.8 Clientes de determinada região são mais propensos a adquirir um plano de seguro veícular.\n",
    "**Falso** -> Proporcionalmente, não há uma região específica onde o interesse de compra se destaque"
   ]
  },
  {
   "cell_type": "code",
   "execution_count": null,
   "id": "f9a178cd",
   "metadata": {
    "ExecuteTime": {
     "end_time": "2023-04-25T00:23:47.184638Z",
     "start_time": "2023-04-25T00:23:47.184605Z"
    }
   },
   "outputs": [],
   "source": [
    "plt.title('Region Overview')\n",
    "aux8 = df3[['id', 'region_code', 'response']].groupby(['region_code', 'response']).count().reset_index()\n",
    "sns.scatterplot(aux8, x='region_code', y='id', hue='response');"
   ]
  },
  {
   "cell_type": "markdown",
   "id": "e4772402",
   "metadata": {},
   "source": [
    "### H.9 Verificar se existe alguma discrepância em proporção de interessados em adquirir seguro de acordo com o código de contato\n",
    "**Verdadeiro** -> Sim, alguns códigos possuem proporção muito maior de interessados."
   ]
  },
  {
   "cell_type": "code",
   "execution_count": null,
   "id": "63d815c3",
   "metadata": {
    "ExecuteTime": {
     "end_time": "2023-04-25T00:23:47.188311Z",
     "start_time": "2023-04-25T00:23:47.188272Z"
    }
   },
   "outputs": [],
   "source": [
    "#Redo stacked barchart (!!!)\n",
    "aux9 = pd.crosstab(df3['policy_sales_channel'], df3['response']).apply(lambda x: x/x.sum(), axis = 1)\n",
    "\n",
    "ax1 = aux9.plot(kind='bar',\n",
    "          stacked=True,\n",
    "          colormap='tab10',\n",
    "          figsize = (40, 10));\n",
    "plt.xlabel('Policy sales Channel',fontsize=30);\n",
    "plt.xticks(fontsize=15);\n",
    "plt.xlim(-1, 83);\n",
    "plt.ylabel('Proportion', fontsize = 30);\n",
    "plt.yticks(fontsize=20);\n",
    "\n",
    "ax1.legend(loc='lower right', prop={'size': 20}, title_fontsize= 20, title= 'Response');\n",
    "\n",
    "ax2 = aux9.plot(kind='bar',\n",
    "          stacked=True,\n",
    "          colormap='tab10',\n",
    "          figsize = (40, 10));\n",
    "plt.xlabel('Policy sales Channel',fontsize=30);\n",
    "plt.xticks(fontsize=15);\n",
    "plt.xlim(82, 163);\n",
    "plt.ylabel('Proportion', fontsize = 30);\n",
    "plt.yticks(fontsize=20);\n",
    "\n",
    "ax2.legend(loc='lower right', prop={'size': 20}, title_fontsize= 20, title= 'Response');"
   ]
  },
  {
   "cell_type": "markdown",
   "id": "cfbaa2fc",
   "metadata": {},
   "source": [
    "# 4.0 DATA PREPARATION"
   ]
  },
  {
   "cell_type": "code",
   "execution_count": null,
   "id": "553fdc3f",
   "metadata": {
    "ExecuteTime": {
     "end_time": "2023-04-25T00:23:47.192295Z",
     "start_time": "2023-04-25T00:23:47.192246Z"
    }
   },
   "outputs": [],
   "source": [
    "df4 = df3.copy()"
   ]
  },
  {
   "cell_type": "code",
   "execution_count": null,
   "id": "bd40a61e",
   "metadata": {
    "ExecuteTime": {
     "end_time": "2023-04-25T00:23:47.195027Z",
     "start_time": "2023-04-25T00:23:47.194997Z"
    }
   },
   "outputs": [],
   "source": [
    "df4_num = df4.select_dtypes(include=['int64', 'float64'])\n",
    "df4_num.head()"
   ]
  },
  {
   "cell_type": "code",
   "execution_count": null,
   "id": "25597c95",
   "metadata": {},
   "outputs": [],
   "source": []
  }
 ],
 "metadata": {
  "kernelspec": {
   "display_name": "Python 3 (ipykernel)",
   "language": "python",
   "name": "python3"
  },
  "language_info": {
   "codemirror_mode": {
    "name": "ipython",
    "version": 3
   },
   "file_extension": ".py",
   "mimetype": "text/x-python",
   "name": "python",
   "nbconvert_exporter": "python",
   "pygments_lexer": "ipython3",
   "version": "3.10.0"
  }
 },
 "nbformat": 4,
 "nbformat_minor": 5
}
